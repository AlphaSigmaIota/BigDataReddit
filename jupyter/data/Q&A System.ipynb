{
 "cells": [
  {
   "cell_type": "code",
   "execution_count": 1,
   "id": "ac1accbf-fee9-4376-a6b5-5994daf13205",
   "metadata": {},
   "outputs": [],
   "source": [
    "# Pairprogramming AS & HS\n",
    "from pyspark.sql import SparkSession\n",
    "\n",
    "# SparkSession öffnen\n",
    "spark = SparkSession.builder.appName(\"HadoopReadExample\").getOrCreate()\n",
    "\n",
    "# Pfad zu den Dateien\n",
    "path = \"hdfs://namenode:9000/reddits/\"\n",
    "\n",
    "# Lesen der Daten aus den csv Dateien.\n",
    "df = spark.read.csv(path + \"*.csv\", inferSchema=True, header=True)"
   ]
  },
  {
   "cell_type": "code",
   "execution_count": 2,
   "id": "5f74aebe-cf58-4371-b3f1-2a1d4f987322",
   "metadata": {},
   "outputs": [],
   "source": [
    "# Einsammeln der Daten bis \"jetzt\"\n",
    "rows = df.collect()"
   ]
  },
  {
   "cell_type": "code",
   "execution_count": 14,
   "id": "7e3de013-7e82-4e63-910b-3a3c4b201fc0",
   "metadata": {},
   "outputs": [],
   "source": [
    "import json\n",
    "\n",
    "messages = []\n",
    "\n",
    "# Einlesen von Titel und Inhalt jeder Nachricht in das \"messages\"-Array\n",
    "for row in rows:\n",
    "    data = json.loads(row[0])\n",
    "\n",
    "    # Auslesen des Titels des Reddits\n",
    "    title = data[\"Titel\"]\n",
    "    content = data[\"Inhalt\"]\n",
    "    # messages.append(title)\n",
    "    messages.append(content)"
   ]
  },
  {
   "cell_type": "code",
   "execution_count": 20,
   "id": "8cb9132f-2e8a-4038-86a0-f195fcf93832",
   "metadata": {},
   "outputs": [
    {
     "name": "stderr",
     "output_type": "stream",
     "text": [
      "No model was supplied, defaulted to distilbert-base-cased-distilled-squad and revision 626af31 (https://huggingface.co/distilbert-base-cased-distilled-squad).\n",
      "Using a pipeline without specifying a model name and revision in production is not recommended.\n"
     ]
    },
    {
     "name": "stdout",
     "output_type": "stream",
     "text": [
      "{'score': 0.18193122744560242, 'start': 62, 'end': 72, 'answer': 'Amazon KDP'}\n"
     ]
    }
   ],
   "source": [
    "from transformers import pipeline\n",
    "\n",
    "# Letzte 500 Nachrichten als Kontext für die Fragestellung auswählen\n",
    "joined_messages = \"\".join(messages[-500])\n",
    "oracle = pipeline(\"question-answering\")\n",
    "\n",
    "print(oracle(question=\"Who is famous?\", context=joined_messages))"
   ]
  }
 ],
 "metadata": {
  "kernelspec": {
   "display_name": "Python 3 (ipykernel)",
   "language": "python",
   "name": "python3"
  },
  "language_info": {
   "codemirror_mode": {
    "name": "ipython",
    "version": 3
   },
   "file_extension": ".py",
   "mimetype": "text/x-python",
   "name": "python",
   "nbconvert_exporter": "python",
   "pygments_lexer": "ipython3",
   "version": "3.10.11"
  }
 },
 "nbformat": 4,
 "nbformat_minor": 5
}
